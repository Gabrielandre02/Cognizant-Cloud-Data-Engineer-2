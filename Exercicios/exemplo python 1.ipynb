{
 "cells": [
  {
   "cell_type": "code",
   "execution_count": 1,
   "metadata": {},
   "outputs": [
    {
     "name": "stdout",
     "output_type": "stream",
     "text": [
      "posso comprar\n"
     ]
    }
   ],
   "source": [
    "arroz_kg = 7.00\n",
    "feijao = 9.00\n",
    "carne_kg = 50.00\n",
    "\n",
    "if arroz_kg <= 10.00:\n",
    "    print('posso comprar')\n",
    "else:\n",
    "    print('Nao posso comprar')"
   ]
  }
 ],
 "metadata": {
  "interpreter": {
   "hash": "a94bf17f73c7b69670ee90772c9912951651cc36f12adf3a46084e09f5005876"
  },
  "kernelspec": {
   "display_name": "Python 3.10.2 64-bit",
   "language": "python",
   "name": "python3"
  },
  "language_info": {
   "codemirror_mode": {
    "name": "ipython",
    "version": 3
   },
   "file_extension": ".py",
   "mimetype": "text/x-python",
   "name": "python",
   "nbconvert_exporter": "python",
   "pygments_lexer": "ipython3",
   "version": "3.10.2"
  },
  "orig_nbformat": 4
 },
 "nbformat": 4,
 "nbformat_minor": 2
}
