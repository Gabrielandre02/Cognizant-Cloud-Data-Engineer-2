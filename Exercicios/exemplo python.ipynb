{
 "cells": [
  {
   "cell_type": "code",
   "execution_count": 2,
   "metadata": {},
   "outputs": [
    {
     "name": "stdout",
     "output_type": "stream",
     "text": [
      "hello word!\n"
     ]
    }
   ],
   "source": [
    "print('hello word!')"
   ]
  },
  {
   "cell_type": "code",
   "execution_count": 3,
   "metadata": {},
   "outputs": [
    {
     "name": "stdout",
     "output_type": "stream",
     "text": [
      "6.0\n"
     ]
    }
   ],
   "source": [
    "nota_aluno1 = 7.0\n",
    "nota_aluno2 = 5.0\n",
    "soma_aluno = nota_aluno1 + nota_aluno2\n",
    "qtd_alunos= 2\n",
    "media = soma_aluno /qtd_alunos\n",
    "print(media)"
   ]
  }
 ],
 "metadata": {
  "interpreter": {
   "hash": "a94bf17f73c7b69670ee90772c9912951651cc36f12adf3a46084e09f5005876"
  },
  "kernelspec": {
   "display_name": "Python 3.10.2 64-bit",
   "language": "python",
   "name": "python3"
  },
  "language_info": {
   "codemirror_mode": {
    "name": "ipython",
    "version": 3
   },
   "file_extension": ".py",
   "mimetype": "text/x-python",
   "name": "python",
   "nbconvert_exporter": "python",
   "pygments_lexer": "ipython3",
   "version": "3.10.2"
  },
  "orig_nbformat": 4
 },
 "nbformat": 4,
 "nbformat_minor": 2
}
